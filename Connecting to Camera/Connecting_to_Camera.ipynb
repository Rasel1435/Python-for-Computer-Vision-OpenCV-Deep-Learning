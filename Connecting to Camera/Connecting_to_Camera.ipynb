{
 "cells": [
  {
   "cell_type": "code",
   "execution_count": 1,
   "metadata": {},
   "outputs": [],
   "source": [
    "import pandas as pd\n",
    "import numpy as np\n",
    "import matplotlib.pyplot as plt\n",
    "import seaborn as sns\n",
    "import cv2\n",
    "%matplotlib inline"
   ]
  },
  {
   "cell_type": "code",
   "execution_count": 2,
   "metadata": {},
   "outputs": [
    {
     "name": "stdout",
     "output_type": "stream",
     "text": [
      "The video has been created successfully\n"
     ]
    }
   ],
   "source": [
    "#Python Program to save a \n",
    "# video using OpenCV\n",
    "\n",
    "# Create an object to read\n",
    "# from camera\n",
    "\n",
    "video = cv2.VideoCapture(0)\n",
    "\n",
    "# We Need to check if camera \n",
    "# is opened previously or not\n",
    "if (video.isOpened() == False):\n",
    "    print(\"Error Reading video file\")\n",
    "\n",
    "# We Need to set resolutions.\n",
    "# so covert them from flot to integer.\n",
    "\n",
    "frame_width = int(video.get(cv2.CAP_PROP_FRAME_WIDTH))\n",
    "frame_height = int(video.get(cv2.CAP_PROP_FRAME_HEIGHT))\n",
    "\n",
    "size = (frame_width,frame_height)\n",
    "\n",
    "# Now have to make video and \n",
    "# stored in \"Myvideo.mp4\" file\n",
    "# WINDOWS ---> *'DIVX'(MP4), *\"MJPG\"(.avi)\n",
    "# MACOS or LINUX ---> *'XVID'\n",
    "result = cv2.VideoWriter(\"Myvideo.mp4\",cv2.VideoWriter_fourcc(*\"DIVX\"),20,size)\n",
    "\n",
    "# Logic here\n",
    "while True:\n",
    "    ret, frame = video.read()\n",
    "\n",
    "    if ret == True:\n",
    "\n",
    "        # Write the frame into the\n",
    "        # file \"Myvideo.mp4\"\n",
    "        result.write(frame)\n",
    "\n",
    "        # Display the frame\n",
    "        # save in the file\n",
    "        cv2.imshow(\"Frame\", frame)\n",
    "\n",
    "        # Press q on keyboard\n",
    "        # to stop the process\n",
    "        if cv2.waitKey(1) & 0xFF == ord('s'):\n",
    "            break\n",
    "    else:\n",
    "        break\n",
    "\n",
    "# When everything done, release\n",
    "# the video capture and video\n",
    "# write objects\n",
    "video.release()\n",
    "result.release()\n",
    "\n",
    "# Close all the frames\n",
    "cv2.destroyAllWindows()\n",
    "\n",
    "print(\"The video has been created successfully\")\n",
    "\n",
    "\n"
   ]
  }
 ],
 "metadata": {
  "interpreter": {
   "hash": "b89b5cfaba6639976dc87ff2fec6d58faec662063367e2c229c520fe71072417"
  },
  "kernelspec": {
   "display_name": "Python 3.10.1 64-bit",
   "language": "python",
   "name": "python3"
  },
  "language_info": {
   "codemirror_mode": {
    "name": "ipython",
    "version": 3
   },
   "file_extension": ".py",
   "mimetype": "text/x-python",
   "name": "python",
   "nbconvert_exporter": "python",
   "pygments_lexer": "ipython3",
   "version": "3.10.1"
  },
  "orig_nbformat": 4
 },
 "nbformat": 4,
 "nbformat_minor": 2
}
