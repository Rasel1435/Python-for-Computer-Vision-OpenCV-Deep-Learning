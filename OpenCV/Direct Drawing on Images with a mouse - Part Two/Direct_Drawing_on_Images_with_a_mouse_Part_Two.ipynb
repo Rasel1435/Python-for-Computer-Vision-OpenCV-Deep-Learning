{
 "cells": [
  {
   "cell_type": "code",
   "execution_count": 4,
   "metadata": {},
   "outputs": [],
   "source": [
    "import pandas as pd\n",
    "import numpy as np\n",
    "import matplotlib.pyplot as plt\n",
    "import seaborn as sns\n",
    "import cv2\n",
    "%matplotlib inline"
   ]
  },
  {
   "cell_type": "code",
   "execution_count": 5,
   "metadata": {},
   "outputs": [],
   "source": [
    "#########################\n",
    "#### Function ###########\n",
    "\n",
    "\n",
    "def draw_circle(event,x,y,flags,param):\n",
    "   \n",
    "    if event == cv2.EVENT_LBUTTONDOWN:\n",
    "       cv2.circle(img,(x,y), radius=100, color=(0,255,0), thickness=-1)\n",
    "\n",
    "    if event == cv2.EVENT_RBUTTONDOWN:\n",
    "        cv2.circle(img, (x,y), radius=100, color=(255,0,0), thickness=-1)\n",
    "\n",
    "cv2.namedWindow(winname=('my_Drawing'))\n",
    "\n",
    "cv2.setMouseCallback('my_Drawing',draw_circle)\n",
    "\n",
    "\n",
    "###############################\n",
    "## Showing Image With OpenCV###\n",
    "###############################\n",
    "\n",
    "\n",
    "img = np.zeros((512,512,3))\n",
    "\n",
    "while True:\n",
    "\n",
    "    cv2.imshow('my_Drawing', img)\n",
    "\n",
    "    if cv2.waitKey(20) & 0xFF == 27:\n",
    "        break\n",
    "\n",
    "cv2.destroyAllWindows()"
   ]
  }
 ],
 "metadata": {
  "interpreter": {
   "hash": "b89b5cfaba6639976dc87ff2fec6d58faec662063367e2c229c520fe71072417"
  },
  "kernelspec": {
   "display_name": "Python 3.10.1 64-bit",
   "language": "python",
   "name": "python3"
  },
  "language_info": {
   "codemirror_mode": {
    "name": "ipython",
    "version": 3
   },
   "file_extension": ".py",
   "mimetype": "text/x-python",
   "name": "python",
   "nbconvert_exporter": "python",
   "pygments_lexer": "ipython3",
   "version": "3.10.1"
  },
  "orig_nbformat": 4
 },
 "nbformat": 4,
 "nbformat_minor": 2
}
