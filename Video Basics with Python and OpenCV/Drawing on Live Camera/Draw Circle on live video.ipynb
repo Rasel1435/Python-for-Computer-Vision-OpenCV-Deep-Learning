{
 "cells": [
  {
   "cell_type": "code",
   "execution_count": 1,
   "metadata": {},
   "outputs": [],
   "source": [
    "import pandas as pd\n",
    "import numpy as np\n",
    "import matplotlib.pyplot as plt\n",
    "import seaborn as sns\n",
    "import cv2\n",
    "import time\n",
    "\n",
    "%matplotlib inline"
   ]
  },
  {
   "cell_type": "code",
   "execution_count": 2,
   "metadata": {},
   "outputs": [
    {
     "name": "stdout",
     "output_type": "stream",
     "text": [
      "Live Circle Drawing has been Done\n"
     ]
    }
   ],
   "source": [
    "# Create a function on a cv2 Event (Left button click)\n",
    "\n",
    "# mouse callback function\n",
    "def draw_circle(event,x,y,flag,param):\n",
    "    global center, clicked\n",
    "\n",
    "    # get mouse click on down and track center\n",
    "    if event == cv2.EVENT_LBUTTONDOWN:\n",
    "        center = (x,y)\n",
    "        clicked = False\n",
    "\n",
    "    if event == cv2.EVENT_LBUTTONUP:\n",
    "        clicked = True\n",
    "\n",
    "    # use boolean variable to track if the mouse has been released\n",
    "\n",
    "# Haven't drawn anything yet!\n",
    "center = (0,0)\n",
    "clicked = False\n",
    "\n",
    "# capture video\n",
    "video = cv2.VideoCapture(0)\n",
    "\n",
    "# Connection\n",
    "cv2.namedWindow(\"Test\")\n",
    "\n",
    "# draw Circle\n",
    "cv2.setMouseCallback(\"Test\",draw_circle)\n",
    "\n",
    "\n",
    "while True:\n",
    "\n",
    "    # capture frame by frame\n",
    "    ret,frame = video.read()\n",
    "\n",
    "    # Use if statement to see if clicked is True\n",
    "    if clicked:\n",
    "        # draw circle on frame\n",
    "        cv2.circle(frame, center=center,radius=50,color=(0,0,255),thickness=5)\n",
    "\n",
    "    # Display the resulting frame\n",
    "    cv2.imshow(\"Test\", frame)\n",
    "\n",
    "    # press \"q\" for stop process\n",
    "    if cv2.waitKey(1) & 0xFF == ord(\"q\"):\n",
    "        break\n",
    "    # simply press x on the window won't work!\n",
    "\n",
    "# when everything is done\n",
    "# release the video\n",
    "video.release()\n",
    "\n",
    "# closing all windows\n",
    "cv2.destroyAllWindows()\n",
    "print(\"Live Circle Drawing has been Done\")"
   ]
  }
 ],
 "metadata": {
  "interpreter": {
   "hash": "b89b5cfaba6639976dc87ff2fec6d58faec662063367e2c229c520fe71072417"
  },
  "kernelspec": {
   "display_name": "Python 3.10.1 64-bit",
   "language": "python",
   "name": "python3"
  },
  "language_info": {
   "codemirror_mode": {
    "name": "ipython",
    "version": 3
   },
   "file_extension": ".py",
   "mimetype": "text/x-python",
   "name": "python",
   "nbconvert_exporter": "python",
   "pygments_lexer": "ipython3",
   "version": "3.10.1"
  },
  "orig_nbformat": 4
 },
 "nbformat": 4,
 "nbformat_minor": 2
}
