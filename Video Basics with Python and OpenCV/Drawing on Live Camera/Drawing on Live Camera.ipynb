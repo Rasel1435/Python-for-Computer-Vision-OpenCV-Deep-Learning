{
 "cells": [
  {
   "cell_type": "code",
   "execution_count": 3,
   "metadata": {},
   "outputs": [],
   "source": [
    "import pandas as pd\n",
    "import numpy as np\n",
    "import matplotlib.pyplot as plt\n",
    "import seaborn as sns\n",
    "import cv2\n",
    "import time\n",
    "\n",
    "%matplotlib inline"
   ]
  },
  {
   "cell_type": "code",
   "execution_count": 5,
   "metadata": {},
   "outputs": [
    {
     "name": "stdout",
     "output_type": "stream",
     "text": [
      "Rectangle has been created successfully\n"
     ]
    }
   ],
   "source": [
    "# Create an object to read\n",
    "# from camera\n",
    "\n",
    "video = cv2.VideoCapture(0)\n",
    "\n",
    "# We Need to check if camera \n",
    "# is opened previously or not\n",
    "\n",
    "if (video.isOpened() == False):\n",
    "    print(\"Error Reading video file\")\n",
    "\n",
    "# Callback Functions Rectangle\n",
    "def draw_rectangle(event,x,y,flag,param):\n",
    "    global pt1,pt2,topleft_clicked,botRight_clicked\n",
    "\n",
    "    if event == cv2.EVENT_LBUTTONDOWN:\n",
    "        # Reset the rectangle\n",
    "        if topleft_clicked == True and botRight_clicked == True:\n",
    "            pt1 = (0,0)\n",
    "            pt2 = (0,0)\n",
    "\n",
    "            topleft_clicked = False\n",
    "            botRight_clicked = False\n",
    "        \n",
    "        if topleft_clicked == False:\n",
    "            pt1 = (x,y)\n",
    "            topleft_clicked = True\n",
    "\n",
    "        elif botRight_clicked == False:\n",
    "            pt2 = (x,y)\n",
    "            botRight_clicked = True\n",
    "\n",
    "\n",
    "\n",
    "# Global variables\n",
    "pt1 = (0,0)\n",
    "pt2 = (0,0)\n",
    "\n",
    "topleft_clicked = False\n",
    "botRight_clicked = False\n",
    "\n",
    "# Connect to the Callback\n",
    "video = cv2.VideoCapture(0)\n",
    "cv2.namedWindow(\"Test\")\n",
    "cv2.setMouseCallback(\"Test\",draw_rectangle)\n",
    "\n",
    "\n",
    "# Logic here\n",
    "\n",
    "while True:\n",
    "    ret, frame = video.read()\n",
    "\n",
    "    # Drawing on the frame based off the\n",
    "    # Global variables\n",
    "    if topleft_clicked:\n",
    "        cv2.circle(frame, center=pt1, radius=5, color=(0,0,255), thickness=-1)\n",
    "    \n",
    "    if topleft_clicked and botRight_clicked:\n",
    "        cv2.rectangle(frame,pt1,pt2,(0,0,255),3)\n",
    "\n",
    "    if ret == True:\n",
    "        \n",
    "        # Disply the frame\n",
    "        cv2.imshow(\"Test\",frame)\n",
    "\n",
    "        # press 'q' on keybord to stop process\n",
    "        if cv2.waitKey(1) & 0xFF == ord(\"q\"):\n",
    "            break\n",
    "    else:\n",
    "        break\n",
    "\n",
    "# when everything is done then\n",
    "# release \n",
    "video.release()\n",
    "\n",
    "# Close all the frame\n",
    "cv2.destroyAllWindows()\n",
    "print(\"Rectangle has been created successfully\")\n"
   ]
  }
 ],
 "metadata": {
  "interpreter": {
   "hash": "b89b5cfaba6639976dc87ff2fec6d58faec662063367e2c229c520fe71072417"
  },
  "kernelspec": {
   "display_name": "Python 3.10.1 64-bit",
   "language": "python",
   "name": "python3"
  },
  "language_info": {
   "codemirror_mode": {
    "name": "ipython",
    "version": 3
   },
   "file_extension": ".py",
   "mimetype": "text/x-python",
   "name": "python",
   "nbconvert_exporter": "python",
   "pygments_lexer": "ipython3",
   "version": "3.10.1"
  },
  "orig_nbformat": 4
 },
 "nbformat": 4,
 "nbformat_minor": 2
}
