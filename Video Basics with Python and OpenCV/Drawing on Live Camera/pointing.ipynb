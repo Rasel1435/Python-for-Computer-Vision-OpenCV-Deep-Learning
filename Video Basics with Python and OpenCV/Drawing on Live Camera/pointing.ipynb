{
 "cells": [
  {
   "cell_type": "code",
   "execution_count": 1,
   "metadata": {},
   "outputs": [],
   "source": [
    "import pandas as pd\n",
    "import numpy as np\n",
    "import matplotlib.pyplot as plt\n",
    "import seaborn as sns\n",
    "import cv2\n",
    "import time\n",
    "\n",
    "%matplotlib inline"
   ]
  },
  {
   "cell_type": "code",
   "execution_count": 2,
   "metadata": {},
   "outputs": [
    {
     "name": "stdout",
     "output_type": "stream",
     "text": [
      "Rectangle has been created successfully\n"
     ]
    }
   ],
   "source": [
    "# Create an object to read\n",
    "# from camera\n",
    "\n",
    "video = cv2.VideoCapture(0)\n",
    "\n",
    "# We Need to check if camera \n",
    "# is opened previously or not\n",
    "\n",
    "if (video.isOpened() == False):\n",
    "    print(\"Error Reading video file\")\n",
    "\n",
    "# We Need to set resolutions.\n",
    "# so covert them from flot to integer.\n",
    "\n",
    "frame_width = int(video.get(cv2.CAP_PROP_FRAME_WIDTH))\n",
    "frame_height = int(video.get(cv2.CAP_PROP_FRAME_HEIGHT))\n",
    "\n",
    "size = (frame_width,frame_height)\n",
    "\n",
    "# width and height of rectangle\n",
    "w = frame_width // 4\n",
    "h = frame_height // 4\n",
    "\n",
    "# rectangle position\n",
    "# top left corner\n",
    "\n",
    "x = frame_width // 2\n",
    "y = frame_height // 2\n",
    "\n",
    "\n",
    "# Logic here\n",
    "\n",
    "while True:\n",
    "    ret, frame = video.read()\n",
    "\n",
    "    if ret == True:\n",
    "        \n",
    "        # Create rectangle here\n",
    "        # bottom right x+w,y+h\n",
    "        cv2.rectangle(frame,(x,y),(x+w,y+h), color=(0,0,255))\n",
    "        # Disply the frame\n",
    "        cv2.imshow(\"Frame\",frame)\n",
    "\n",
    "        # press 'q' on keybord to stop process\n",
    "        if cv2.waitKey(1) & 0xFF == ord(\"q\"):\n",
    "            break\n",
    "    else:\n",
    "        break\n",
    "\n",
    "# when everything is done then\n",
    "# release \n",
    "video.release()\n",
    "\n",
    "# Close all the frame\n",
    "cv2.destroyAllWindows()\n",
    "print(\"Rectangle has been created successfully\")\n"
   ]
  }
 ],
 "metadata": {
  "interpreter": {
   "hash": "b89b5cfaba6639976dc87ff2fec6d58faec662063367e2c229c520fe71072417"
  },
  "kernelspec": {
   "display_name": "Python 3.10.1 64-bit",
   "language": "python",
   "name": "python3"
  },
  "language_info": {
   "codemirror_mode": {
    "name": "ipython",
    "version": 3
   },
   "file_extension": ".py",
   "mimetype": "text/x-python",
   "name": "python",
   "nbconvert_exporter": "python",
   "pygments_lexer": "ipython3",
   "version": "3.10.1"
  },
  "orig_nbformat": 4
 },
 "nbformat": 4,
 "nbformat_minor": 2
}
