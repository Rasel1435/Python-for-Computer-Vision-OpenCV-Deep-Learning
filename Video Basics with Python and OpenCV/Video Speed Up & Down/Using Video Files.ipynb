{
 "cells": [
  {
   "cell_type": "code",
   "execution_count": 14,
   "metadata": {},
   "outputs": [],
   "source": [
    "import pandas as pd\n",
    "import numpy as np\n",
    "import matplotlib.pyplot as plt\n",
    "import seaborn as sns\n",
    "import cv2\n",
    "import time\n",
    "\n",
    "%matplotlib inline"
   ]
  },
  {
   "cell_type": "code",
   "execution_count": 15,
   "metadata": {},
   "outputs": [
    {
     "name": "stdout",
     "output_type": "stream",
     "text": [
      "Video speed has been more slower now\n"
     ]
    }
   ],
   "source": [
    "# Open exiting Video\n",
    "video = cv2.VideoCapture(\"Myvideo.mp4\")\n",
    "\n",
    "# Check Camera is open or not\n",
    "if video.isOpened() == False:\n",
    "    print(\"Error File Not Found Or Wrong Codec used!\")\n",
    "\n",
    "# Logic here\n",
    "while video.isOpened() == True:\n",
    "    ret, frame = video.read()\n",
    "\n",
    "    if ret == True:\n",
    "\n",
    "        # Write 20 FPS\n",
    "        time.sleep(1/20)\n",
    "        # Disply the frame & save the file\n",
    "        cv2.imshow(\"Frame\", frame)\n",
    "\n",
    "        # press \"q\" on keybord to stop the process\n",
    "        if cv2.waitKey(1) & 0xFF == ord(\"q\"):\n",
    "            break\n",
    "    else:\n",
    "        break\n",
    "\n",
    "# When everything is doen \n",
    "# release video\n",
    "video.release()\n",
    "\n",
    "# Closing all the frame\n",
    "cv2.destroyAllWindows()\n",
    "print(\"Video speed has been more slower now\")\n",
    "\n"
   ]
  }
 ],
 "metadata": {
  "interpreter": {
   "hash": "b89b5cfaba6639976dc87ff2fec6d58faec662063367e2c229c520fe71072417"
  },
  "kernelspec": {
   "display_name": "Python 3.10.1 64-bit",
   "language": "python",
   "name": "python3"
  },
  "language_info": {
   "codemirror_mode": {
    "name": "ipython",
    "version": 3
   },
   "file_extension": ".py",
   "mimetype": "text/x-python",
   "name": "python",
   "nbconvert_exporter": "python",
   "pygments_lexer": "ipython3",
   "version": "3.10.1"
  },
  "orig_nbformat": 4
 },
 "nbformat": 4,
 "nbformat_minor": 2
}
